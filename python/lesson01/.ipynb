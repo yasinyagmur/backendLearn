{
 "cells": [
  {
   "cell_type": "code",
   "execution_count": null,
   "metadata": {},
   "outputs": [],
   "source": [
    "print(\"hello world\")"
   ]
  },
  {
   "cell_type": "code",
   "execution_count": null,
   "metadata": {},
   "outputs": [],
   "source": [
    "a = 50\n",
    "a= 60\n",
    "print(a)"
   ]
  },
  {
   "cell_type": "code",
   "execution_count": null,
   "metadata": {},
   "outputs": [],
   "source": [
    "a= \"Ali\"\n",
    "b=\" Veli\"\n",
    "c= \"Henry\"\n",
    "print(type(a))\n",
    "print(a,b,c,sep=\"\\n\",end=\"\")"
   ]
  },
  {
   "cell_type": "code",
   "execution_count": null,
   "metadata": {},
   "outputs": [],
   "source": [
    "num1= 5\n",
    "num2 =5.18\n",
    "num3= False\n",
    "print(type(num1))\n",
    "print(type(str(num2)))\n",
    "print(type(str(num3)))"
   ]
  },
  {
   "cell_type": "code",
   "execution_count": null,
   "metadata": {},
   "outputs": [],
   "source": [
    "num1 = \"ali\"\n",
    "b = 34\n",
    "b= 2.15\n",
    "c= False\n",
    "\n",
    "print(str(a))\n",
    "print(int(num1))\n",
    "print(float(a))\n",
    "print(int(a))"
   ]
  },
  {
   "cell_type": "code",
   "execution_count": null,
   "metadata": {},
   "outputs": [],
   "source": [
    "vegetable = \"Patates\"\n",
    "print(vegetable[2:5]) # tat\n",
    "print(vegetable[-2:]) # es\n",
    "print(vegetable[-2:-5:-1]) # eta"
   ]
  },
  {
   "cell_type": "code",
   "execution_count": null,
   "metadata": {},
   "outputs": [],
   "source": [
    "str_one = \"upper\"\n",
    "print(*str_one) # u p p e r"
   ]
  },
  {
   "cell_type": "code",
   "execution_count": null,
   "metadata": {},
   "outputs": [],
   "source": []
  }
 ],
 "metadata": {
  "language_info": {
   "name": "python"
  },
  "orig_nbformat": 4
 },
 "nbformat": 4,
 "nbformat_minor": 2
}
