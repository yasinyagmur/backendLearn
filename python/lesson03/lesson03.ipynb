{
 "cells": [
  {
   "cell_type": "code",
   "execution_count": null,
   "metadata": {},
   "outputs": [],
   "source": [
    "course = \"ClArusWay \"\n",
    "if course.strip().title() == \"Clarusway\":\n",
    "  print(\"ok\")\n",
    "else:\n",
    "  print(\"not ok\")"
   ]
  },
  {
   "cell_type": "code",
   "execution_count": null,
   "metadata": {},
   "outputs": [],
   "source": [
    "num = int(input(\"please enter a number: \"))\n",
    "if num % 2 == 0:\n",
    "  print(f\"{num} is even\");\n",
    "else :\n",
    "  print(f\"{num} is odd.\")"
   ]
  },
  {
   "cell_type": "code",
   "execution_count": null,
   "metadata": {},
   "outputs": [],
   "source": [
    "n1, n2, n3 = input(\"number: \").split(\",\")\n",
    "if n1 > n2 and n1 > n3:\n",
    "    largest = int(n1)\n",
    "elif n2 > n1 and n2 > n3:\n",
    "    largest = int(n2)\n",
    "else:\n",
    "    largest = int(n3)\n",
    "\n",
    "print(\"The largest number\", largest)"
   ]
  },
  {
   "cell_type": "code",
   "execution_count": null,
   "metadata": {},
   "outputs": [],
   "source": [
    "text = \"lorem ipsumm dolor sit amet.\"\n",
    "lst = text.split(\" \")\n",
    "\n",
    "i = 0\n",
    "\n",
    "longest = \"\"\n",
    "\n",
    "while i < len(lst):\n",
    "    if len(lst[i]) > len(longest):\n",
    "        longest = lst[i]\n",
    "    i += 1\n",
    "print(longest)"
   ]
  },
  {
   "cell_type": "code",
   "execution_count": null,
   "metadata": {},
   "outputs": [],
   "source": [
    "text = \"clarusway\"\n",
    "word=\"\"\n",
    "for i, y in enumerate(text, 0):\n",
    "    if i== 0:\n",
    "        word += y\n",
    "    else:\n",
    "        word += \"-\" + y\n",
    "print(word) "
   ]
  },
  {
   "cell_type": "code",
   "execution_count": null,
   "metadata": {},
   "outputs": [],
   "source": [
    "user = {\n",
    "    \"name\":\"yasin\",\n",
    "    \"surname\":\"yağmur\",\n",
    "    \"age\": 33\n",
    "}\n",
    "for i in user.values():\n",
    "    print(i, end=\"\\t\")"
   ]
  }
 ],
 "metadata": {
  "language_info": {
   "name": "python"
  },
  "orig_nbformat": 4
 },
 "nbformat": 4,
 "nbformat_minor": 2
}
