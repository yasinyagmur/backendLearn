{
 "cells": [
  {
   "cell_type": "code",
   "execution_count": null,
   "metadata": {},
   "outputs": [],
   "source": [
    "course = \"ClArusWay \"\n",
    "if course.strip().title() == \"Clarusway\":\n",
    "  print(\"ok\")\n",
    "else:\n",
    "  print(\"not ok\")"
   ]
  },
  {
   "cell_type": "code",
   "execution_count": null,
   "metadata": {},
   "outputs": [],
   "source": [
    "num = int(input(\"please enter a number: \"))\n",
    "if num % 2 == 0:\n",
    "  print(f\"{num} is even\");\n",
    "else :\n",
    "  print(f\"{num} is odd.\")"
   ]
  },
  {
   "cell_type": "code",
   "execution_count": null,
   "metadata": {},
   "outputs": [],
   "source": [
    "n1, n2, n3 = input(\"number: \").split(\",\")\n",
    "if n1 > n2 and n1 > n3:\n",
    "    largest = int(n1)\n",
    "elif n2 > n1 and n2 > n3:\n",
    "    largest = int(n2)\n",
    "else:\n",
    "    largest = int(n3)\n",
    "\n",
    "print(\"The largest number\", largest)"
   ]
  }
 ],
 "metadata": {
  "language_info": {
   "name": "python"
  },
  "orig_nbformat": 4
 },
 "nbformat": 4,
 "nbformat_minor": 2
}
