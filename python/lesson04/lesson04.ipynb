{
 "cells": [
  {
   "cell_type": "code",
   "execution_count": null,
   "metadata": {},
   "outputs": [],
   "source": [
    "while True:\n",
    "    no_one = int(input(\"The first number please : \"))\n",
    "    no_two = int(input(\"The second number please : \"))\n",
    "    division = no_one / no_two\n",
    "    print(\"The result of the division is : \", division)\n",
    "    break"
   ]
  },
  {
   "cell_type": "code",
   "execution_count": null,
   "metadata": {},
   "outputs": [],
   "source": [
    "while True:\n",
    "    no_one = int(input(\"The first number please : \"))\n",
    "    no_two = int(input(\"The second number please : \"))\n",
    "    try:\n",
    "        division = no_one / no_two\n",
    "        print(\"The result of the division is : \", division)\n",
    "        break\n",
    "    except Exception as jason:\n",
    "        print(\"Something went wrong...Try again.\")\n",
    "        print(\"Probably it is because of '{}' error\".format(jason))\n",
    "        break"
   ]
  },
  {
   "cell_type": "code",
   "execution_count": null,
   "metadata": {},
   "outputs": [],
   "source": [
    "word = tuple(input(\"Please write the syntax to be analyzted : \"))\n",
    "empty_dict = {}\n",
    "for i in word:\n",
    "  empty_dict[i] = (word.count(i))\n",
    "\n",
    "print(empty_dict)\n"
   ]
  },
  {
   "cell_type": "code",
   "execution_count": null,
   "metadata": {},
   "outputs": [],
   "source": [
    "with open(\"fishes.txt\",\"w\",encoding=\"utf-8\") as file:\n",
    "   file.write(\"Orca is a kind of Dolphin Blue Whale is the largest animal known on earth.Sharks are the sister group to the Rays (batoids).The Tuna Fish can weigh up to 260 kg.Squid and Octopus are in the same class.\")\n",
    "with open(\"fishes.txt\",\"r\",encoding=\"utf-8\") as file:\n",
    "  print(file.read())"
   ]
  },
  {
   "cell_type": "code",
   "execution_count": null,
   "metadata": {},
   "outputs": [],
   "source": [
    "fruits = ['Banana', 'Orange', 'Apple', 'Strawberry', 'Cherry']"
   ]
  },
  {
   "cell_type": "code",
   "execution_count": null,
   "metadata": {},
   "outputs": [],
   "source": [
    "with open(\"fruits.txt\",\"w\",encoding=\"utf-8\") as file:\n",
    "  for meyve in fruits:\n",
    "    file.write(meyve + \"\\n\")\n",
    "with open(\"fruits.txt\",\"r\") as file :\n",
    "  print(file.read())"
   ]
  },
  {
   "cell_type": "code",
   "execution_count": null,
   "metadata": {},
   "outputs": [],
   "source": [
    "with open(\"fruits.txt\",\"r\") as file :\n",
    "  print(file.readlines())"
   ]
  }
 ],
 "metadata": {
  "language_info": {
   "name": "python"
  },
  "orig_nbformat": 4
 },
 "nbformat": 4,
 "nbformat_minor": 2
}
